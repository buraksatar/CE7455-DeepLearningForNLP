{
  "nbformat": 4,
  "nbformat_minor": 0,
  "metadata": {
    "colab": {
      "name": "Python Tutorial - The byte.ipynb",
      "provenance": [],
      "collapsed_sections": []
    },
    "kernelspec": {
      "name": "python3",
      "display_name": "Python 3"
    }
  },
  "cells": [
    {
      "cell_type": "markdown",
      "metadata": {
        "id": "Iofgm5TrY8Dd",
        "colab_type": "text"
      },
      "source": [
        "# Python Tutorial - The byte\n",
        "-- $M \\ Saiful \\ Bari$\n",
        "\n",
        "The official python tutorial, https://docs.python.org/3.6/tutorial/\n",
        "\n",
        "The language is named after the BBC show **Monty Python’s Flying Circus** and has nothing to do with **reptiles**.\n",
        "\n",
        "**[talk]** Python's motivation and journey. [oxford union talk](https://www.youtube.com/watch?v=7kn7NtlV6g0)\n",
        "\n",
        "**Prerequisite :** Knowledge of any programming language, some small concepts of OOP.\n",
        "\n"
      ]
    },
    {
      "cell_type": "markdown",
      "metadata": {
        "id": "WFmLsCjpZfrf",
        "colab_type": "text"
      },
      "source": [
        "# Table of Content\n",
        "0. Introduction\n",
        "1. Interpreter\n",
        "2. Variables & Built in Data-structures\n",
        "3. Conditional\n",
        "4. Function\n",
        "5. while loop\n",
        "6. for loop\n",
        "7. Random number\n",
        "8. Generator Function\n",
        "9. Class, Inheritance\n",
        "10. Asserts, exceptions\n",
        "11. Input Output (I/O)\n",
        "12. The Pythonic Way\n",
        "13. Brief tour to Standard Library\n",
        "14. Package Manager\n",
        "15. The complete language reference\n"
      ]
    },
    {
      "cell_type": "markdown",
      "metadata": {
        "id": "qbBpD7dvcJbM",
        "colab_type": "text"
      },
      "source": [
        "# Learn ideas and Practice Syntax"
      ]
    },
    {
      "cell_type": "markdown",
      "metadata": {
        "id": "LTBnlzhUcxRz",
        "colab_type": "text"
      },
      "source": [
        "# 0. Introduction\n",
        "\n",
        "Theoretically, Any turing complete language can mimic each other's performance. A programming language should have the following feature to be Turing-complete.\n",
        "0. Conditional repetition or conditional jump (while, for, if and goto)\n",
        "1. Read and Write mechanism (variables)\n",
        "\n",
        "**Example :** C, C++, C#, Java, Lua, Python\n"
      ]
    },
    {
      "cell_type": "markdown",
      "metadata": {
        "id": "w4LpBYrEbUpp",
        "colab_type": "text"
      },
      "source": [
        "## Why choose python for Deep Learning Research?\n",
        "Early Deep learning era was built on top of Lua ([torch](https://github.com/torch)) and python ([Theano](https://github.com/Theano/Theano)). But somehow python stands out in the follwoing points.  \n",
        "\n",
        "0. Shorter codes.\n",
        "1. Momentum, rapid prototyping and rapid application development.\n",
        "2. Vibrant Comminity, and Community support.\n",
        "3. Excellent eco-system of library and package managers.\n",
        "4. Good Debugging tools.\n",
        "5. Better OS intrigration.\n",
        "\n",
        "Later google built [tensorflow](https://github.com/tensorflow/tensorflow) with full python api support and facebook adopted Soumit Chintala's [pytroch](https://github.com/pytorch/pytorch) and start supporting it. Both of them are now excellent framework for doing Deep Learning Research and Deployment.\n",
        "\n",
        "Now **Python has become the Mother-tongue of scientific Programming.**"
      ]
    },
    {
      "cell_type": "markdown",
      "metadata": {
        "id": "ozzlBP6unuhe",
        "colab_type": "text"
      },
      "source": [
        "# 1. Interpreter\n",
        "\n",
        "One of the major difference between compiler and interpreter is **when** and **how** the compilation and execution is done? \n",
        "\n",
        "In Compiler based language, Compilation is done before the execution.\n",
        "In Interpreter based language, the Compilation and Execution take place simultaneously. It enables us to create **this** type of notebook where we can run each cell, see the output and again run a set of new command. This is simply,\n",
        "\n",
        "$$GREAT \\ \\  FOR \\ \\  DEBUGGING$$\n",
        "\n",
        "Also it helps us to take **educative decisions** while inspecting any phenomena inside the **data** or **model**.\n",
        "\n"
      ]
    },
    {
      "cell_type": "markdown",
      "metadata": {
        "id": "UWTF-tkMzfnR",
        "colab_type": "text"
      },
      "source": [
        "##Code running\n",
        "\n",
        "3 different way.\n",
        "\n",
        "1. **From shell :** from the terminal write `python -c \"python code\"`\n",
        "2. **From a *.py file :** Write python code in a text file\n",
        "3. **Interactive mode :** In the shell write `python` and an interactive python shell will start where you can run python code line by line. Same feature is used for creating **this** types of **notebook**."
      ]
    },
    {
      "cell_type": "markdown",
      "metadata": {
        "id": "rqXwepIQzN2p",
        "colab_type": "text"
      },
      "source": [
        "### From Shell"
      ]
    },
    {
      "cell_type": "code",
      "metadata": {
        "id": "qoG4aaQ18ST_",
        "colab_type": "code",
        "outputId": "b7e6f2ed-5b68-4997-e5bc-683def60c1eb",
        "colab": {
          "base_uri": "https://localhost:8080/",
          "height": 52
        }
      },
      "source": [
        "!python -c 'import torch; print(\"Hello Word\"); print(torch.__version__)'"
      ],
      "execution_count": 0,
      "outputs": [
        {
          "output_type": "stream",
          "text": [
            "Hello Word\n",
            "1.3.1\n"
          ],
          "name": "stdout"
        }
      ]
    },
    {
      "cell_type": "markdown",
      "metadata": {
        "id": "lFIDknzPzSop",
        "colab_type": "text"
      },
      "source": [
        "### From a *.py file\n",
        "\n",
        "Let's create the python file first. and then run the python file from terminal. In real life you may use an IDE or editor to create the python code and save it as `*.py` extension."
      ]
    },
    {
      "cell_type": "code",
      "metadata": {
        "id": "fxRSmOMTwcvI",
        "colab_type": "code",
        "outputId": "58e26d7a-ae4a-48aa-ce57-7c3255096ccf",
        "colab": {
          "base_uri": "https://localhost:8080/",
          "height": 125
        }
      },
      "source": [
        "!rm hello_word.py # delete if any hello_world.py is there\n",
        "!touch hello_word.py # create an empty hello_world.oy text file\n",
        "!echo -e \"import torch\" >> hello_word.py  #write on hello_world.py file\n",
        "!echo -e \"print(\\\"Hello Word\\\")\" >> hello_word.py #write on hello_world.py file\n",
        "!echo -e \"print(torch.__version__)\" >> hello_word.py #write on hello_world.py file\n",
        "!cat hello_word.py # View helloworld.py\n",
        "!python hello_word.py # run hello_world.py\n",
        "arr = [0,0,0,0,0]"
      ],
      "execution_count": 0,
      "outputs": [
        {
          "output_type": "stream",
          "text": [
            "rm: cannot remove 'hello_word.py': No such file or directory\n",
            "import torch\n",
            "print(\"Hello Word\")\n",
            "print(torch.__version__)\n",
            "Hello Word\n",
            "1.3.1\n"
          ],
          "name": "stdout"
        }
      ]
    },
    {
      "cell_type": "markdown",
      "metadata": {
        "id": "CbDMa6H7101u",
        "colab_type": "text"
      },
      "source": [
        "### Interactive mode\n"
      ]
    },
    {
      "cell_type": "code",
      "metadata": {
        "id": "Ske0iL2F0FYi",
        "colab_type": "code",
        "outputId": "3008da88-9182-4733-f303-bb3fb7f7c955",
        "colab": {
          "base_uri": "https://localhost:8080/",
          "height": 89
        }
      },
      "source": [
        "import torch\n",
        "print(\"Hello Word\")\n",
        "print(torch.__version__)\n",
        "print(var0)\n",
        "arr[0] = arr[0]+1\n",
        "print(arr)"
      ],
      "execution_count": 0,
      "outputs": [
        {
          "output_type": "stream",
          "text": [
            "Hello Word\n",
            "1.3.1\n",
            "5\n",
            "[2, 2, 3, 4]\n"
          ],
          "name": "stdout"
        }
      ]
    },
    {
      "cell_type": "markdown",
      "metadata": {
        "id": "5uP1wc3a4-CB",
        "colab_type": "text"
      },
      "source": [
        "# 2. Variables & Built in Data-structures"
      ]
    },
    {
      "cell_type": "markdown",
      "metadata": {
        "id": "5Eljaojy6xcr",
        "colab_type": "text"
      },
      "source": [
        "## Variable Declaration\n",
        "- Declare a variable with an `=` sign and assign a value to it.\n",
        "- to see the data type use `type()` function\n",
        "- make sure you know about the automatic type conversion. mainly for `floating` point numbers.\n",
        "- run simple operations with operator `+,-,*,/, %, **`. `%` is modulus operation and `**` power operation. `a**c` is equivalent to $a^c$ \n",
        "- import python libraries by `import library_name`.\n",
        "- In python each of the variable is a class."
      ]
    },
    {
      "cell_type": "code",
      "metadata": {
        "id": "bSwZNf_D0T2K",
        "colab_type": "code",
        "outputId": "16212b2f-e6e9-4aff-94df-fb3f0390ab95",
        "colab": {
          "base_uri": "https://localhost:8080/",
          "height": 73
        }
      },
      "source": [
        "var0 = 5\n",
        "var1 = 5.0\n",
        "var2 = 'The quick brown for runs over the lazy dog'\n",
        "var3 = 1e-3 # 0.001\n",
        "var4 = 1e3 # 0.001\n",
        "var5 = True\n",
        "var6 = False\n",
        "arr = [1,2,3,4]\n",
        "print(var0, var1, var2, var3, var4, var5, var6)\n",
        "print(type(var0), type(var1), type(var2), type(var3), type(var4), type(var5), type(var6))"
      ],
      "execution_count": 0,
      "outputs": [
        {
          "output_type": "stream",
          "text": [
            "5 5.0 The quick brown for runs over the lazy dog 0.001 1000.0 True False\n",
            "<class 'int'> <class 'float'> <class 'str'> <class 'float'> <class 'float'> <class 'bool'> <class 'bool'>\n"
          ],
          "name": "stdout"
        }
      ]
    },
    {
      "cell_type": "code",
      "metadata": {
        "id": "W_vWQ17M3Hxu",
        "colab_type": "code",
        "outputId": "414e8122-dd8b-460a-d4a2-f4e4f960df31",
        "colab": {
          "base_uri": "https://localhost:8080/",
          "height": 116
        }
      },
      "source": [
        "a = 5/3\n",
        "print(\"a = 5/3 =\", a, type(a))\n",
        "a = 5.0/3\n",
        "print(\"a = 5.0/3 =\", a, type(a))\n",
        "a = 5/3.0\n",
        "print(\"a = 5/3.0 =\", a, type(a))\n",
        "a = 5//3\n",
        "print(\"a = 5//3 =\", a, type(a))\n",
        "a = 5.0//3\n",
        "print(\"a = 5.0//3 =\", a, type(a)) \n",
        "a = 5//3.0\n",
        "print(\"a = 5//3.0 =\", a, type(a))"
      ],
      "execution_count": 0,
      "outputs": [
        {
          "output_type": "stream",
          "text": [
            "a = 5/3 = 1.6666666666666667 <class 'float'>\n",
            "a = 5.0/3 = 1.6666666666666667 <class 'float'>\n",
            "a = 5/3.0 = 1.6666666666666667 <class 'float'>\n",
            "a = 5//3 = 1 <class 'int'>\n",
            "a = 5.0//3 = 1.0 <class 'float'>\n",
            "a = 5//3.0 = 1.0 <class 'float'>\n"
          ],
          "name": "stdout"
        }
      ]
    },
    {
      "cell_type": "code",
      "metadata": {
        "id": "ufvSarOZ3H0i",
        "colab_type": "code",
        "colab": {}
      },
      "source": [
        "a = 5\n",
        "b = a+1\n",
        "b += 1 # b = b+1"
      ],
      "execution_count": 0,
      "outputs": []
    },
    {
      "cell_type": "code",
      "metadata": {
        "id": "un44_9T1JrRO",
        "colab_type": "code",
        "outputId": "a0739c5b-d0e7-45d0-e82c-8f20d9d106b3",
        "colab": {
          "base_uri": "https://localhost:8080/",
          "height": 100
        }
      },
      "source": [
        "a = '1'\n",
        "print(type(a), a)\n",
        "b = int(a)\n",
        "print(type(b), b)\n",
        "c = 1\n",
        "print(type(c), c)\n",
        "d = str(c)\n",
        "print(type(d), d)\n",
        "k = 3.14159265\n",
        "print(k, int(k), float(int(k)))"
      ],
      "execution_count": 0,
      "outputs": [
        {
          "output_type": "stream",
          "text": [
            "<class 'str'> 1\n",
            "<class 'int'> 1\n",
            "<class 'int'> 1\n",
            "<class 'str'> 1\n",
            "3.14159265 3 3.0\n"
          ],
          "name": "stdout"
        }
      ]
    },
    {
      "cell_type": "markdown",
      "metadata": {
        "id": "5YBtEAVx76HA",
        "colab_type": "text"
      },
      "source": [
        "**Note:** unlike C/C++ code, `++` is invalid in python.\n"
      ]
    },
    {
      "cell_type": "code",
      "metadata": {
        "id": "baEZfKbw3H2d",
        "colab_type": "code",
        "outputId": "71420409-93e4-4313-9abc-da584e11a04c",
        "colab": {
          "base_uri": "https://localhost:8080/",
          "height": 130
        }
      },
      "source": [
        "b++ # This line won't run"
      ],
      "execution_count": 0,
      "outputs": [
        {
          "output_type": "error",
          "ename": "SyntaxError",
          "evalue": "ignored",
          "traceback": [
            "\u001b[0;36m  File \u001b[0;32m\"<ipython-input-8-3c5ac55c1bff>\"\u001b[0;36m, line \u001b[0;32m1\u001b[0m\n\u001b[0;31m    b++ # This line won't run\u001b[0m\n\u001b[0m                             ^\u001b[0m\n\u001b[0;31mSyntaxError\u001b[0m\u001b[0;31m:\u001b[0m invalid syntax\n"
          ]
        }
      ]
    },
    {
      "cell_type": "code",
      "metadata": {
        "id": "XsvbvEvX3H5W",
        "colab_type": "code",
        "outputId": "6b9a727c-44a7-47c4-bc6f-200ace95aa0f",
        "colab": {
          "base_uri": "https://localhost:8080/",
          "height": 33
        }
      },
      "source": [
        "a = 500\n",
        "b = a % 3\n",
        "c = a ** b\n",
        "print(c)"
      ],
      "execution_count": 0,
      "outputs": [
        {
          "output_type": "stream",
          "text": [
            "250000\n"
          ],
          "name": "stdout"
        }
      ]
    },
    {
      "cell_type": "code",
      "metadata": {
        "id": "HWXvaeqv9K5J",
        "colab_type": "code",
        "outputId": "d61b1b20-500b-40d5-d524-bb681332199e",
        "colab": {
          "base_uri": "https://localhost:8080/",
          "height": 33
        }
      },
      "source": [
        "import math\n",
        "print(math.sqrt(5))"
      ],
      "execution_count": 0,
      "outputs": [
        {
          "output_type": "stream",
          "text": [
            "2.23606797749979\n"
          ],
          "name": "stdout"
        }
      ]
    },
    {
      "cell_type": "markdown",
      "metadata": {
        "id": "8Js7QmNeCGPm",
        "colab_type": "text"
      },
      "source": [
        "## List"
      ]
    },
    {
      "cell_type": "code",
      "metadata": {
        "id": "MzWtW1N6CHM1",
        "colab_type": "code",
        "colab": {}
      },
      "source": [
        "a = [1, 2, 3, 4, 5]\n",
        "b = [1, \"hello world\", 3.0, {\"prof\":\"Dr. Shafiq Joty\", \"Course\" : \"MH6812\" }]\n",
        "print(a)\n",
        "print(b)\n",
        "\n",
        "a.append(100)\n",
        "print(a)\n"
      ],
      "execution_count": 0,
      "outputs": []
    },
    {
      "cell_type": "markdown",
      "metadata": {
        "id": "_ByvnIPmCXaI",
        "colab_type": "text"
      },
      "source": [
        "Note that, in python list works as a call by reference. "
      ]
    },
    {
      "cell_type": "code",
      "metadata": {
        "id": "ZtAM83zECPNK",
        "colab_type": "code",
        "colab": {}
      },
      "source": [
        "a = [0,1,2,3,4,5,6,7]\n",
        "b = a\n",
        "b[4] = 100\n",
        "print(a)\n",
        "print(b)\n",
        "print(len(a))\n",
        "print(len(b))"
      ],
      "execution_count": 0,
      "outputs": []
    },
    {
      "cell_type": "code",
      "metadata": {
        "id": "GqCbD331X9eo",
        "colab_type": "code",
        "colab": {}
      },
      "source": [
        "import copy\n",
        "a = [0,1,2,3,4,5,6,7]\n",
        "b = copy.deepcopy(a)\n",
        "b[4] = 100\n",
        "print(a)\n",
        "print(b)"
      ],
      "execution_count": 0,
      "outputs": []
    },
    {
      "cell_type": "markdown",
      "metadata": {
        "id": "G3Cyjnwv8_ZT",
        "colab_type": "text"
      },
      "source": [
        "## String"
      ]
    },
    {
      "cell_type": "code",
      "metadata": {
        "id": "fKKN9Pit3H8E",
        "colab_type": "code",
        "colab": {}
      },
      "source": [
        "a = 5\n",
        "b = 10\n",
        "s = 'The quick brown for runs over the lazy dog'\n",
        "f = 'a = {}, b = {}'.format(a, b) #string formating\n",
        "print(f)"
      ],
      "execution_count": 0,
      "outputs": []
    },
    {
      "cell_type": "markdown",
      "metadata": {
        "id": "fH_knxMeA132",
        "colab_type": "text"
      },
      "source": [
        "Note that sting is not mutable. You can't do random access to the position of the string. you have to call library function for that."
      ]
    },
    {
      "cell_type": "code",
      "metadata": {
        "id": "XuWnE4CRBRP-",
        "colab_type": "code",
        "colab": {}
      },
      "source": [
        "a = 'The quick brown for runs over the lazy dog'\n",
        "a[0] = 'x' # This line won't run"
      ],
      "execution_count": 0,
      "outputs": []
    },
    {
      "cell_type": "code",
      "metadata": {
        "id": "lIOWKQaHBgqh",
        "colab_type": "code",
        "colab": {}
      },
      "source": [
        "a = 'The quick brown for runs over the lazy dog'\n",
        "a = list(a)\n",
        "print(a)\n",
        "a[0] = 'x'\n",
        "a = \"\".join(a)\n",
        "print(a)"
      ],
      "execution_count": 0,
      "outputs": []
    },
    {
      "cell_type": "markdown",
      "metadata": {
        "id": "z3_aiQHI_UbL",
        "colab_type": "text"
      },
      "source": [
        "## Dictionary\n",
        "\n",
        "- Dictionaries are set of `key` and `value`. \n",
        "- Keys are unique. \n",
        "- regular dictionary doesn't ensure the order information of data. \n",
        "- Ordered dictionary contains the order information of data but you have to import it from `collections` library.\n"
      ]
    },
    {
      "cell_type": "code",
      "metadata": {
        "id": "0vR1pYH4AB6v",
        "colab_type": "code",
        "outputId": "522f4694-56e6-4f59-ffb4-a327c37d7523",
        "colab": {
          "base_uri": "https://localhost:8080/",
          "height": 35
        }
      },
      "source": [
        "a = { 0 : \"Mr. a\", 1 : \"Mr. b\", 2 : \"Mr. c\" }\n",
        "print(a)"
      ],
      "execution_count": 0,
      "outputs": [
        {
          "output_type": "stream",
          "text": [
            "{0: 'Mr. a', 1: 'Mr. b', 2: 'Mr. c'}\n"
          ],
          "name": "stdout"
        }
      ]
    },
    {
      "cell_type": "code",
      "metadata": {
        "id": "Trl9reiHAXyr",
        "colab_type": "code",
        "colab": {}
      },
      "source": [
        "a = { 0 : \"Mr. a\", 0 : \"Mr. b\", 2 : \"Mr. b\", 1 : \"Mr. c\", 0 : \"Mr. c\" }\n",
        "print(a)"
      ],
      "execution_count": 0,
      "outputs": []
    },
    {
      "cell_type": "code",
      "metadata": {
        "id": "NdgsL5iwArgW",
        "colab_type": "code",
        "colab": {}
      },
      "source": [
        "from collections import OrderedDict\n",
        "b = OrderedDict([('b', 2), ('a', 1)])\n",
        "print(b)\n",
        "\n",
        "b = OrderedDict({ 0 : \"Mr. a\", 1 : \"Mr. b\", 2 : \"Mr. b\" })\n",
        "print(b)\n",
        "\n",
        "b = OrderedDict({ 0 : \"Mr. a\", 0 : \"Mr. b\", 2 : \"Mr. b\", 1 : \"Mr. c\", 0 : \"Mr. c\" })\n",
        "print(b)\n"
      ],
      "execution_count": 0,
      "outputs": []
    },
    {
      "cell_type": "markdown",
      "metadata": {
        "id": "UhRdt-LI-sKc",
        "colab_type": "text"
      },
      "source": [
        "## Slicing\n",
        "\n",
        "A very inportant concept. How to access data in python.\n",
        "\n",
        "\n",
        "\n",
        "```\n",
        " +---+---+---+---+---+---+\n",
        " | P | y | t | h | o | n |\n",
        " +---+---+---+---+---+---+\n",
        "   0   1   2   3   4   5   \n",
        "  -6  -5  -4  -3  -2  -1\n",
        "```\n",
        "\n"
      ]
    },
    {
      "cell_type": "code",
      "metadata": {
        "id": "22CoIsKX3IGM",
        "colab_type": "code",
        "outputId": "866d9a3b-0c68-4a13-bb3e-66dd4e6ac0cb",
        "colab": {
          "base_uri": "https://localhost:8080/",
          "height": 105
        }
      },
      "source": [
        "letters = ['p', 'y', 't', 'h', 'o', 'n']\n",
        "print(\"0\", letters[0])\n",
        "print(\"1\", letters[1])\n",
        "print(\"2\", letters[2])\n",
        "print(\"-1\", letters[-1])\n",
        "print(\"-2\", letters[-2])"
      ],
      "execution_count": 0,
      "outputs": [
        {
          "output_type": "stream",
          "text": [
            "0 p\n",
            "1 y\n",
            "2 t\n",
            "-1 n\n",
            "-2 o\n"
          ],
          "name": "stdout"
        }
      ]
    },
    {
      "cell_type": "code",
      "metadata": {
        "id": "nAx_XPV43II5",
        "colab_type": "code",
        "outputId": "7fee34c8-1c0d-4b1b-80c1-4066789f2c9a",
        "colab": {
          "base_uri": "https://localhost:8080/",
          "height": 227
        }
      },
      "source": [
        "print(\":\", letters[:])\n",
        "print(\"0:\", letters[0:])\n",
        "print(\":-1\", letters[:-1])\n",
        "print(\"0:5\", letters[0:5])\n",
        "print(\":2\", letters[:2])\n",
        "print(\"3:5\", letters[3:5])\n",
        "print(\"0:-1\", letters[0:-1])\n",
        "print(\"0:-2\", letters[0:-2])\n",
        "print(\"-1:0\", letters[-1:0])\n",
        "print(\"-5:-2\", letters[-5:-2])\n",
        "print(letters[-1:0:-2])\n",
        "print(letters[-1:-7:-1])"
      ],
      "execution_count": 0,
      "outputs": [
        {
          "output_type": "stream",
          "text": [
            ": ['p', 'y', 't', 'h', 'o', 'n']\n",
            "0: ['p', 'y', 't', 'h', 'o', 'n']\n",
            ":-1 ['p', 'y', 't', 'h', 'o']\n",
            "0:5 ['p', 'y', 't', 'h', 'o']\n",
            ":2 ['p', 'y']\n",
            "3:5 ['h', 'o']\n",
            "0:-1 ['p', 'y', 't', 'h', 'o']\n",
            "0:-2 ['p', 'y', 't', 'h']\n",
            "-1:0 []\n",
            "-5:-2 ['y', 't', 'h']\n",
            "['n', 'o', 'h', 't', 'y']\n",
            "['n', 'o', 'h', 't', 'y', 'p']\n"
          ],
          "name": "stdout"
        }
      ]
    },
    {
      "cell_type": "markdown",
      "metadata": {
        "id": "HqoojIttFfsc",
        "colab_type": "text"
      },
      "source": [
        "## Practice\n",
        "Go to the follwoing sites and write the code segment in your preffered notebook and try to understand the output. \n",
        "- [An Informal Introduction to Python](https://docs.python.org/3.6/tutorial/introduction.html) -> section 3.1\n"
      ]
    },
    {
      "cell_type": "markdown",
      "metadata": {
        "id": "FIzSmW0-Lgoz",
        "colab_type": "text"
      },
      "source": [
        "# 3. Conditional\n",
        "\n",
        "Note that in python, indentation is **must**. Without proper indentation code will not execute.\n",
        "```\n",
        "if condition:\n",
        "  statement\n",
        "elif condition:\n",
        "  statement\n",
        "...\n",
        "...\n",
        "else:\n",
        "  statement\n",
        "```\n",
        "\n",
        "\n",
        "\n"
      ]
    },
    {
      "cell_type": "code",
      "metadata": {
        "id": "ZjdJZ3PSNtv4",
        "colab_type": "code",
        "colab": {}
      },
      "source": [
        "year = 2000\n",
        "if year % 400 == 0 :\n",
        "  print(True)\n",
        "elif year % 4 == 0 and year % 100 != 0:\n",
        "  print(True)\n",
        "else:\n",
        "  print(False)"
      ],
      "execution_count": 0,
      "outputs": []
    },
    {
      "cell_type": "code",
      "metadata": {
        "id": "XUbO5YX3LrPj",
        "colab_type": "code",
        "outputId": "56c13aa0-dff7-4181-c600-a2a2e07eb32a",
        "colab": {
          "base_uri": "https://localhost:8080/",
          "height": 52
        }
      },
      "source": [
        "score = int(input(\"Score :\"))\n",
        "if score >= 80:\n",
        "  print(\"A\")\n",
        "elif score >= 75:\n",
        "  print(\"A-\")\n",
        "elif score >= 70:\n",
        "  print(\"B\")\n",
        "else:\n",
        "  print(\"Fail\")"
      ],
      "execution_count": 0,
      "outputs": [
        {
          "output_type": "stream",
          "text": [
            "Score :50\n",
            "Fail\n"
          ],
          "name": "stdout"
        }
      ]
    },
    {
      "cell_type": "markdown",
      "metadata": {
        "id": "xPosaAhJtdZS",
        "colab_type": "text"
      },
      "source": [
        "# 4. Function\n",
        "\n",
        "Function definition is given below. Note that argument with default values will always be followed by regular argument.\n",
        "\n",
        "```\n",
        "def function_name( arg1, args2, args2, .. argsn):\n",
        "  ...\n",
        "  ...\n",
        "  statememt\n",
        "  ...\n",
        "  ...\n",
        "  return ret_obj\n",
        "```\n",
        "\n"
      ]
    },
    {
      "cell_type": "code",
      "metadata": {
        "id": "xLs_wk0pPbDE",
        "colab_type": "code",
        "colab": {}
      },
      "source": [
        "def isLeapYear(year):\n",
        "  if year % 400 == 0 :\n",
        "    return True\n",
        "  if year % 4 == 0 and year % 100 != 0:\n",
        "    return True\n",
        "  return False\n",
        "print(isLeapYear(2000))\n",
        "print(isLeapYear(2019))"
      ],
      "execution_count": 0,
      "outputs": []
    },
    {
      "cell_type": "code",
      "metadata": {
        "id": "70SkB1U7LuYb",
        "colab_type": "code",
        "colab": {}
      },
      "source": [
        "def grader(score):\n",
        "  if score >= 80:\n",
        "    return \"A\"\n",
        "  elif score >= 75:\n",
        "    return \"A-\"\n",
        "  elif score >= 70:\n",
        "    return \"B\"\n",
        "  else:\n",
        "    return \"Fail\""
      ],
      "execution_count": 0,
      "outputs": []
    },
    {
      "cell_type": "code",
      "metadata": {
        "id": "yCboTT8ANiNi",
        "colab_type": "code",
        "colab": {}
      },
      "source": [
        "grader(100)"
      ],
      "execution_count": 0,
      "outputs": []
    },
    {
      "cell_type": "code",
      "metadata": {
        "id": "ZLYGLX2dtcgA",
        "colab_type": "code",
        "colab": {}
      },
      "source": [
        "def fibonacci(n):\n",
        "  a, b = 0, 1\n",
        "  ret = []\n",
        "  while a < n:\n",
        "    ret.append(a)\n",
        "    a, b = b, a+b\n",
        "  return ret"
      ],
      "execution_count": 0,
      "outputs": []
    },
    {
      "cell_type": "code",
      "metadata": {
        "id": "Ec9xvC-vwXJO",
        "colab_type": "code",
        "colab": {}
      },
      "source": [
        "fibonacci(5)"
      ],
      "execution_count": 0,
      "outputs": []
    },
    {
      "cell_type": "code",
      "metadata": {
        "id": "wxdR6_jcwimG",
        "colab_type": "code",
        "colab": {}
      },
      "source": [
        "def fibonacci(n=10000):\n",
        "  a, b = 0, 1\n",
        "  ret = []\n",
        "  while a < n:\n",
        "    ret.append(a)\n",
        "    a, b = b, a+b\n",
        "  return ret"
      ],
      "execution_count": 0,
      "outputs": []
    },
    {
      "cell_type": "markdown",
      "metadata": {
        "id": "9jufSACyK7aM",
        "colab_type": "text"
      },
      "source": [
        ""
      ]
    },
    {
      "cell_type": "code",
      "metadata": {
        "id": "FfOtK3uCwluu",
        "colab_type": "code",
        "colab": {}
      },
      "source": [
        "fibonacci2()"
      ],
      "execution_count": 0,
      "outputs": []
    },
    {
      "cell_type": "markdown",
      "metadata": {
        "id": "Nt-vhDRjK8mT",
        "colab_type": "text"
      },
      "source": [
        "Let's have some fun with recursive function."
      ]
    },
    {
      "cell_type": "code",
      "metadata": {
        "id": "Ug-IWHyvHCPT",
        "colab_type": "code",
        "colab": {}
      },
      "source": [
        "def nCr(n, r, MOD=10000000+7):\n",
        "    \n",
        "    if n == r or r == 0:\n",
        "      return 1\n",
        "    if r==1:\n",
        "      return n\n",
        "    ret = (nCr(n-1,r)%MOD + nCr(n-1,r-1)%MOD)%MOD\n",
        "    return ret"
      ],
      "execution_count": 0,
      "outputs": []
    },
    {
      "cell_type": "markdown",
      "metadata": {
        "id": "_rpo2zmOORxj",
        "colab_type": "text"
      },
      "source": [
        "# 5. While loop\n",
        "\n",
        "```\n",
        "while condition:\n",
        "  statement\n",
        "  statement\n",
        "  statement\n",
        "  ...\n",
        "  ...\n",
        "  ...\n",
        "  \n",
        "```\n"
      ]
    },
    {
      "cell_type": "code",
      "metadata": {
        "id": "jcViHk_NORNP",
        "colab_type": "code",
        "colab": {}
      },
      "source": [
        "idx = 10\n",
        "while idx < 100:\n",
        "  if idx % 29 == 0:\n",
        "    break\n",
        "  if idx % 2 == 0 :\n",
        "    print(idx, idx**2)\n",
        "  elif idx % 5 == 0 :\n",
        "    idx += 1   ### What happend if we comment this line\n",
        "    continue\n",
        "  elif idx % 3 == 0 :\n",
        "    print(\"An odd number\")\n",
        "  idx += 1"
      ],
      "execution_count": 0,
      "outputs": []
    },
    {
      "cell_type": "code",
      "metadata": {
        "id": "tPpSK1WFIz2Z",
        "colab_type": "code",
        "colab": {}
      },
      "source": [
        "row = 0\n",
        "base = 10\n",
        "while row < base:\n",
        "  col = 0\n",
        "  while col <= row:\n",
        "    print(nCr(row, col), \" \", end=\"\")\n",
        "    col += 1\n",
        "  print()\n",
        "  row += 1"
      ],
      "execution_count": 0,
      "outputs": []
    },
    {
      "cell_type": "markdown",
      "metadata": {
        "id": "cc4DBisrKSOf",
        "colab_type": "text"
      },
      "source": [
        "let's implement the above cell as a function"
      ]
    },
    {
      "cell_type": "code",
      "metadata": {
        "id": "y1dUPCACKXum",
        "colab_type": "code",
        "colab": {}
      },
      "source": [
        "def pascal_triangle(num_of_row=5):\n",
        "  row = 0\n",
        "  base = num_of_row\n",
        "  while row < base:\n",
        "    col = 0\n",
        "    while col <= row:\n",
        "      print(nCr(row, col), \" \", end=\"\")\n",
        "      col += 1\n",
        "    print()\n",
        "    row += 1"
      ],
      "execution_count": 0,
      "outputs": []
    },
    {
      "cell_type": "code",
      "metadata": {
        "id": "j3oiu-2hKqTY",
        "colab_type": "code",
        "colab": {}
      },
      "source": [
        "pascal_triangle(num_of_row=10)"
      ],
      "execution_count": 0,
      "outputs": []
    },
    {
      "cell_type": "markdown",
      "metadata": {
        "id": "dfisL7hZLBXK",
        "colab_type": "text"
      },
      "source": [
        "**Note** : We can make this function **really fast** with Dynamic Programmming/memoization technique. But that's not in the scope of this tutorial.\n",
        "\n",
        "But instead of printing the values let's save then in a list."
      ]
    },
    {
      "cell_type": "code",
      "metadata": {
        "id": "gcVEDahQReFp",
        "colab_type": "code",
        "colab": {}
      },
      "source": [
        "def pascal_triangle(num_of_row=5):\n",
        "  row = 0\n",
        "  base = num_of_row\n",
        "  ret = []\n",
        "  while row < base:\n",
        "    col = 0\n",
        "    ret_row = []\n",
        "    while col <= row:\n",
        "      nCr_val = nCr(row, col)\n",
        "      ret_row.append(nCr_val)\n",
        "      col += 1\n",
        "    row += 1\n",
        "    ret.append(ret_row)\n",
        "  return ret"
      ],
      "execution_count": 0,
      "outputs": []
    },
    {
      "cell_type": "code",
      "metadata": {
        "id": "E8-4Y1R9RxFF",
        "colab_type": "code",
        "colab": {}
      },
      "source": [
        "arr = pascal_triangle(num_of_row=5)"
      ],
      "execution_count": 0,
      "outputs": []
    },
    {
      "cell_type": "code",
      "metadata": {
        "id": "v9IDZFbrSg-M",
        "colab_type": "code",
        "colab": {}
      },
      "source": [
        "idx = 0\n",
        "tot_row = len(arr)\n",
        "while idx < tot_row:\n",
        "  print(arr[idx])\n",
        "  idx += 1"
      ],
      "execution_count": 0,
      "outputs": []
    },
    {
      "cell_type": "markdown",
      "metadata": {
        "id": "YnlBwnd4SLC1",
        "colab_type": "text"
      },
      "source": [
        "Let's convert the above cell into a new function called, `print2Dmat()`."
      ]
    },
    {
      "cell_type": "code",
      "metadata": {
        "id": "eCLZAfWiSrxU",
        "colab_type": "code",
        "colab": {}
      },
      "source": [
        "def print2Dmat(arr):\n",
        "  idx = 0\n",
        "  tot_row = len(arr)\n",
        "  while idx < tot_row:\n",
        "    print(arr[idx])\n",
        "    idx += 1\n",
        "\n",
        "print2Dmat(pascal_triangle(15))"
      ],
      "execution_count": 0,
      "outputs": []
    },
    {
      "cell_type": "code",
      "metadata": {
        "id": "J4V-yRedUB2w",
        "colab_type": "code",
        "outputId": "12f21bf8-1b2b-4774-b465-6b5c228957e3",
        "colab": {
          "base_uri": "https://localhost:8080/",
          "height": 50
        }
      },
      "source": [
        "def ask_ok(prompt, retries=4, reminder='Please try again!'):\n",
        "  \"\"\"The basic function to ask for yes or no question.\n",
        "    return type: True or False\n",
        "  \"\"\"\n",
        "  while True:\n",
        "      ok = input(prompt)\n",
        "      if ok in ('y', 'ye', 'yes'):\n",
        "          return True\n",
        "      if ok in ('n', 'no', 'nop', 'nope'):\n",
        "          return False\n",
        "      retries = retries - 1\n",
        "      if retries < 0:\n",
        "          raise ValueError('invalid user response')  # We will discuss this in a bit\n",
        "      print(reminder)\n",
        "\n",
        "ask_ok(\"Agree? : \", retries=4, reminder='Please try again!')"
      ],
      "execution_count": 0,
      "outputs": [
        {
          "output_type": "stream",
          "text": [
            "Agree? : y\n"
          ],
          "name": "stdout"
        },
        {
          "output_type": "execute_result",
          "data": {
            "text/plain": [
              "True"
            ]
          },
          "metadata": {
            "tags": []
          },
          "execution_count": 12
        }
      ]
    },
    {
      "cell_type": "code",
      "metadata": {
        "id": "ZvQ_7e3mY54S",
        "colab_type": "code",
        "outputId": "f4ec0d15-1dfb-4e6a-a8e2-8adba529d367",
        "colab": {
          "base_uri": "https://localhost:8080/",
          "height": 66
        }
      },
      "source": [
        "print(ask_ok.__doc__)\n"
      ],
      "execution_count": 0,
      "outputs": [
        {
          "output_type": "stream",
          "text": [
            "The basic function to ask for yes or no question.\n",
            "    return type: True or False\n",
            "  \n"
          ],
          "name": "stdout"
        }
      ]
    },
    {
      "cell_type": "markdown",
      "metadata": {
        "id": "UB4b67ztY1Xf",
        "colab_type": "text"
      },
      "source": [
        "# 6. for loop\n",
        "\n",
        "```\n",
        "for variable in iterable_object:\n",
        "  statement\n",
        "```"
      ]
    },
    {
      "cell_type": "code",
      "metadata": {
        "id": "hmMRuCAjZ397",
        "colab_type": "code",
        "outputId": "d1ecbd34-89f4-4697-db48-4e6b1e65b9af",
        "colab": {
          "base_uri": "https://localhost:8080/",
          "height": 33
        }
      },
      "source": [
        "range(10)  # returns [0-10)\n",
        "range(100, 120)  # returns [100-200)\n",
        "range(100, 120, 3) # returns every 3 member of [100-200)"
      ],
      "execution_count": 0,
      "outputs": [
        {
          "output_type": "execute_result",
          "data": {
            "text/plain": [
              "range(100, 120, 3)"
            ]
          },
          "metadata": {
            "tags": []
          },
          "execution_count": 42
        }
      ]
    },
    {
      "cell_type": "code",
      "metadata": {
        "id": "VG8GPpO4Y0yc",
        "colab_type": "code",
        "outputId": "d79f5d58-b51e-433b-cec4-a91e4ab5e639",
        "colab": {
          "base_uri": "https://localhost:8080/",
          "height": 66
        }
      },
      "source": [
        "for i in range(10):\n",
        "  print(i, \" \", end=\"\")\n",
        "print()\n",
        "for i in range(100, 120):\n",
        "  print(i, \" \", end=\"\")\n",
        "print()\n",
        "for i in range(100, 120, 3):\n",
        "  print(i, \" \", end=\"\")"
      ],
      "execution_count": 0,
      "outputs": [
        {
          "output_type": "stream",
          "text": [
            "0  1  2  3  4  5  6  7  8  9  \n",
            "100  101  102  103  104  105  106  107  108  109  110  111  112  113  114  115  116  117  118  119  \n",
            "100  103  106  109  112  115  118  "
          ],
          "name": "stdout"
        }
      ]
    },
    {
      "cell_type": "markdown",
      "metadata": {
        "id": "sX4IlC6bagIu",
        "colab_type": "text"
      },
      "source": [
        "In general, every data structure/container in python should have a traversing procedure written inside of it's internal class."
      ]
    },
    {
      "cell_type": "markdown",
      "metadata": {
        "id": "zov8BwuFa0Re",
        "colab_type": "text"
      },
      "source": [
        "## Iteration through list"
      ]
    },
    {
      "cell_type": "code",
      "metadata": {
        "id": "zVFTOsRUVeZ9",
        "colab_type": "code",
        "outputId": "be659c20-97e6-4eb0-9838-720e5060b703",
        "colab": {
          "base_uri": "https://localhost:8080/",
          "height": 100
        }
      },
      "source": [
        "for i in [1, 2, 3, 4, 6]:\n",
        "  print(i)"
      ],
      "execution_count": 0,
      "outputs": [
        {
          "output_type": "stream",
          "text": [
            "1\n",
            "2\n",
            "3\n",
            "4\n",
            "6\n"
          ],
          "name": "stdout"
        }
      ]
    },
    {
      "cell_type": "code",
      "metadata": {
        "id": "FhKbQi9Sa53Z",
        "colab_type": "code",
        "colab": {}
      },
      "source": [
        "## Iteration through dictionary"
      ],
      "execution_count": 0,
      "outputs": []
    },
    {
      "cell_type": "code",
      "metadata": {
        "id": "YAczrjUmaxQa",
        "colab_type": "code",
        "outputId": "daeaa0a7-e8c9-4953-ac34-0acc06c9674e",
        "colab": {
          "base_uri": "https://localhost:8080/",
          "height": 566
        }
      },
      "source": [
        "my_dictionary = {}\n",
        "for i in range(10):\n",
        "  my_dictionary[i] = i*i*i\n",
        "print(\"Keys\")\n",
        "for i in my_dictionary.keys():\n",
        "  print(i)\n",
        "print(\"values\")\n",
        "for i in my_dictionary.values():\n",
        "  print(i)\n",
        "print(\"key value together\")\n",
        "for k, v in my_dictionary.items():\n",
        "  print(k, v)"
      ],
      "execution_count": 0,
      "outputs": [
        {
          "output_type": "stream",
          "text": [
            "Keys\n",
            "0\n",
            "1\n",
            "2\n",
            "3\n",
            "4\n",
            "5\n",
            "6\n",
            "7\n",
            "8\n",
            "9\n",
            "values\n",
            "0\n",
            "1\n",
            "8\n",
            "27\n",
            "64\n",
            "125\n",
            "216\n",
            "343\n",
            "512\n",
            "729\n",
            "key value together\n",
            "0 0\n",
            "1 1\n",
            "2 8\n",
            "3 27\n",
            "4 64\n",
            "5 125\n",
            "6 216\n",
            "7 343\n",
            "8 512\n",
            "9 729\n"
          ],
          "name": "stdout"
        }
      ]
    },
    {
      "cell_type": "code",
      "metadata": {
        "id": "Ax9nS7erblKE",
        "colab_type": "code",
        "outputId": "d927380c-c14c-4f60-f416-22a28b6a627a",
        "colab": {
          "base_uri": "https://localhost:8080/",
          "height": 100
        }
      },
      "source": [
        "a = [1, 2, 3, 4, 5]\n",
        "b = [100, 99, 98, 96, 96, 95]\n",
        "for i, j in zip(a,b):\n",
        "  print(i, j)"
      ],
      "execution_count": 0,
      "outputs": [
        {
          "output_type": "stream",
          "text": [
            "1 100\n",
            "2 99\n",
            "3 98\n",
            "4 96\n",
            "5 96\n"
          ],
          "name": "stdout"
        }
      ]
    },
    {
      "cell_type": "markdown",
      "metadata": {
        "id": "T9WAvYYxu91G",
        "colab_type": "text"
      },
      "source": [
        "# 7. Random number\n",
        "\n",
        "Deep leaning algorithms are widely stocastic and [Embarrassingly parallel](https://en.wikipedia.org/wiki/Embarrassingly_parallel). Use of random number/distribution is a big part of it. \n",
        "Let's see some feature of python's random number.\n",
        "Also random number is very important for code reproduciblity.\n",
        "Reference: https://docs.python.org/3/library/random.html\n",
        "\n",
        "An experiment is robust in deep learning when,\n",
        "\n",
        "[standard deviation](https://en.wikipedia.org/wiki/Standard_deviation) is small for experiments with,\n",
        "1. Different seed\n",
        "2. Same seed"
      ]
    },
    {
      "cell_type": "code",
      "metadata": {
        "id": "JnNzgfTovBFl",
        "colab_type": "code",
        "outputId": "af790acd-6ada-4c2e-9f12-8d557f444a26",
        "colab": {
          "base_uri": "https://localhost:8080/",
          "height": 107
        }
      },
      "source": [
        "import random\n",
        "random.seed(1234)  # ensures code reproduciblity.\n",
        "a = random.random() # Return the next random floating point number in the range [0.0, 1.0).\n",
        "print(a)\n",
        "a = random.uniform(0, 10)\n",
        "print(a)  # Return a random floating point number N such that a <= N <= b for a <= b and b <= N <= a for b < a.\n",
        "a = random.gauss(.1, 1)\n",
        "print(a)\n",
        "a = random.randint(100, 200)\n",
        "print(a)\n",
        "a = [1,2,3,4,5,6]\n",
        "random.shuffle(a)\n",
        "print(a)"
      ],
      "execution_count": 0,
      "outputs": [
        {
          "output_type": "stream",
          "text": [
            "0.9664535356921388\n",
            "4.407325991753527\n",
            "2.2970405483761804\n",
            "174\n",
            "[3, 4, 2, 5, 6, 1]\n"
          ],
          "name": "stdout"
        }
      ]
    },
    {
      "cell_type": "markdown",
      "metadata": {
        "id": "vffAfz8gvMPN",
        "colab_type": "text"
      },
      "source": [
        "# 8. Generator Function\n",
        "\n",
        "Usually we use generator when we need to explore data one by one. In this case rather than processing whole data together, we can process one by one.\n",
        "\n",
        "Generator let us implement this feature. It doesn't process the whole code segment together. It process per `yield` basis.\n",
        "\n"
      ]
    },
    {
      "cell_type": "code",
      "metadata": {
        "id": "RX8nurpTvzod",
        "colab_type": "code",
        "outputId": "53a3d45f-f93c-4c10-828e-ca2617bb61e6",
        "colab": {
          "base_uri": "https://localhost:8080/",
          "height": 53
        }
      },
      "source": [
        "data = [100, 122, 15, 19, 100, 500, 900, 100, 100, 122, 15, 66, 100, 500, 88, 100, 100, 122, 20, 19, 100, 500, 77, 100, 10]\n",
        "print(data)\n",
        "print(len(data))"
      ],
      "execution_count": 0,
      "outputs": [
        {
          "output_type": "stream",
          "text": [
            "[100, 122, 15, 19, 100, 500, 900, 100, 100, 122, 15, 66, 100, 500, 88, 100, 100, 122, 20, 19, 100, 500, 77, 100, 10]\n",
            "25\n"
          ],
          "name": "stdout"
        }
      ]
    },
    {
      "cell_type": "code",
      "metadata": {
        "id": "TSX3Rw_W1T9B",
        "colab_type": "code",
        "colab": {}
      },
      "source": [
        "# need to get 3 random positioned numbers at a time\n",
        "def data_iterator(data, is_stop = True, is_shuffle = True, batch_size=3):\n",
        "  n = len(data)\n",
        "  idx = 0\n",
        "  index_list = []\n",
        "  while idx < n:\n",
        "    index_list.append(idx)\n",
        "    idx += 1\n",
        "  if is_shuffle:\n",
        "    random.shuffle(index_list)\n",
        "  ret = []\n",
        "  i = 0\n",
        "  while True:\n",
        "    # print(i)\n",
        "    if i == n:\n",
        "      yield ret\n",
        "      if is_stop:\n",
        "        break\n",
        "      i = 0\n",
        "      ret = []\n",
        "      random.shuffle(index_list)\n",
        "    ret.append( data[ index_list[i]  ] )\n",
        "    if len(ret) == batch_size:\n",
        "      yield ret\n",
        "      ret = []\n",
        "    i = i + 1\n"
      ],
      "execution_count": 0,
      "outputs": []
    },
    {
      "cell_type": "code",
      "metadata": {
        "id": "QTi4C59WxT6h",
        "colab_type": "code",
        "outputId": "88de9942-afc6-4f82-8ec8-290ba91462d0",
        "colab": {
          "base_uri": "https://localhost:8080/",
          "height": 89
        }
      },
      "source": [
        "a = data_iterator(data, is_stop = True, is_shuffle = True, batch_size=3)\n",
        "print(a.__next__())\n",
        "print(a.__next__())\n",
        "print(a.__next__())\n",
        "print(a.__next__())"
      ],
      "execution_count": 0,
      "outputs": [
        {
          "output_type": "stream",
          "text": [
            "[122, 900, 122]\n",
            "[500, 15, 100]\n",
            "[500, 100, 19]\n",
            "[100, 100, 77]\n"
          ],
          "name": "stdout"
        }
      ]
    },
    {
      "cell_type": "markdown",
      "metadata": {
        "id": "SxjDZs1lI_cD",
        "colab_type": "text"
      },
      "source": [
        "# 9. Scope, Class, Inheritance\n",
        "\n",
        "Classes provide a means of bundling data and functionality together. Creating a new class creates a new type of object, allowing new instances of that type to be made. Each class instance can have attributes attached to it for maintaining its state. Class instances can also have methods (defined by its class) for modifying its state.\n",
        "\n"
      ]
    },
    {
      "cell_type": "code",
      "metadata": {
        "id": "g0r49AB1G48J",
        "colab_type": "code",
        "outputId": "3d0d47a7-57e7-4d80-deac-094541682673",
        "colab": {
          "base_uri": "https://localhost:8080/",
          "height": 83
        }
      },
      "source": [
        "def scope_test():\n",
        "    def do_local():\n",
        "        spam = \"local spam\"\n",
        "\n",
        "    def do_nonlocal():\n",
        "        nonlocal spam\n",
        "        spam = \"nonlocal spam\"\n",
        "\n",
        "    def do_global():\n",
        "        global spam\n",
        "        spam = \"global spam\"\n",
        "\n",
        "    spam = \"test spam\"\n",
        "    do_local()\n",
        "    print(\"After local assignment:\", spam)\n",
        "    do_nonlocal()\n",
        "    print(\"After nonlocal assignment:\", spam)\n",
        "    do_global()\n",
        "    print(\"After global assignment:\", spam)\n",
        "\n",
        "scope_test()\n",
        "print(\"In global scope:\", spam)"
      ],
      "execution_count": 0,
      "outputs": [
        {
          "output_type": "stream",
          "text": [
            "After local assignment: test spam\n",
            "After nonlocal assignment: nonlocal spam\n",
            "After global assignment: nonlocal spam\n",
            "In global scope: global spam\n"
          ],
          "name": "stdout"
        }
      ]
    },
    {
      "cell_type": "markdown",
      "metadata": {
        "id": "SqhRmdlWUJ9F",
        "colab_type": "text"
      },
      "source": [
        "See the difference between global and nonlocal variables. [link](https://www.python-course.eu/python3_global_vs_local_variables.php)"
      ]
    },
    {
      "cell_type": "markdown",
      "metadata": {
        "id": "38Y5wqUtKo9M",
        "colab_type": "text"
      },
      "source": [
        "## How to design beautiful Classes\n",
        "0. Creativity\n",
        "1. Try to generalize the code so that it becomes reusable. [example](https://github.com/huggingface/transformers/blob/dfe012ad9d6b6f0c9d30bc508b9f1e4c42280c07/src/transformers/modeling_roberta.py#L173)\n",
        "2. Read codes from Popular opensource libraries.\n"
      ]
    },
    {
      "cell_type": "markdown",
      "metadata": {
        "id": "y43ZgrSRG-TM",
        "colab_type": "text"
      },
      "source": [
        "## Class definition\n",
        "\n",
        "\n",
        "```\n",
        "class ClassName:\n",
        "    <statement-1>\n",
        "    .\n",
        "    .\n",
        "    .\n",
        "    <statement-N>\n",
        "```\n",
        "\n"
      ]
    },
    {
      "cell_type": "code",
      "metadata": {
        "id": "WxmQyDes3ILX",
        "colab_type": "code",
        "colab": {}
      },
      "source": [
        "class MyClass:\n",
        "    \"\"\"A simple example class\"\"\"\n",
        "    i = 12345\n",
        "\n",
        "    def f(self):\n",
        "        return 'hello world'"
      ],
      "execution_count": 0,
      "outputs": []
    },
    {
      "cell_type": "code",
      "metadata": {
        "id": "ANp2iTymsvyu",
        "colab_type": "code",
        "outputId": "3a83fc2e-f865-4a31-8f3f-2d64f5e8910a",
        "colab": {
          "base_uri": "https://localhost:8080/",
          "height": 33
        }
      },
      "source": [
        "x = MyClass()\n",
        "x.f()"
      ],
      "execution_count": 0,
      "outputs": [
        {
          "output_type": "execute_result",
          "data": {
            "text/plain": [
              "'hello world'"
            ]
          },
          "metadata": {
            "tags": []
          },
          "execution_count": 19
        }
      ]
    },
    {
      "cell_type": "code",
      "metadata": {
        "id": "3tovWLwkr73Q",
        "colab_type": "code",
        "colab": {}
      },
      "source": [
        "class Complex:\n",
        "  def __init__(self, realpart, imagpart):\n",
        "      self.r = realpart\n",
        "      self.i = imagpart"
      ],
      "execution_count": 0,
      "outputs": []
    },
    {
      "cell_type": "code",
      "metadata": {
        "id": "osv6mqqJIfk5",
        "colab_type": "code",
        "outputId": "e14d5130-47c3-425b-82f2-a760a7afdfe0",
        "colab": {
          "base_uri": "https://localhost:8080/",
          "height": 33
        }
      },
      "source": [
        "x = Complex(3.0, -4.5)\n",
        "print(x.r, x.i)"
      ],
      "execution_count": 0,
      "outputs": [
        {
          "output_type": "stream",
          "text": [
            "3.0 -4.5\n"
          ],
          "name": "stdout"
        }
      ]
    },
    {
      "cell_type": "markdown",
      "metadata": {
        "id": "7eLHqf4vIUUR",
        "colab_type": "text"
      },
      "source": [
        "self represents the instance of the class. By using the “self” keyword we can access the attributes and methods of the class in python.\n",
        "\n",
        "**Self is a convention and not a real python keyword**"
      ]
    },
    {
      "cell_type": "code",
      "metadata": {
        "id": "hqKyn29VH4zb",
        "colab_type": "code",
        "outputId": "4dc6c14e-3c1e-4f68-c546-6d94e3b175d7",
        "colab": {
          "base_uri": "https://localhost:8080/",
          "height": 33
        }
      },
      "source": [
        "class Complex:\n",
        "  def __init__(new_self, realpart, imagpart):\n",
        "      new_self.r = realpart\n",
        "      new_self.i = imagpart\n",
        "\n",
        "y = Complex(3.0, -4.5)\n",
        "print(y.r, y.i)"
      ],
      "execution_count": 0,
      "outputs": [
        {
          "output_type": "stream",
          "text": [
            "3.0 -4.5\n"
          ],
          "name": "stdout"
        }
      ]
    },
    {
      "cell_type": "markdown",
      "metadata": {
        "id": "sqGrjcTtJZ48",
        "colab_type": "text"
      },
      "source": [
        "Note that here `__init__()` is the class constructor. The class is constructed by calling this method."
      ]
    },
    {
      "cell_type": "code",
      "metadata": {
        "id": "CI19p2L7I06F",
        "colab_type": "code",
        "colab": {}
      },
      "source": [
        "class Bag:\n",
        "    def __init__(self):\n",
        "        self.data = []\n",
        "\n",
        "    def add(self, x):\n",
        "        self.data.append(x)\n",
        "\n",
        "    def addtwice(self, x):\n",
        "        self.add(x)\n",
        "        self.add(x)"
      ],
      "execution_count": 0,
      "outputs": []
    },
    {
      "cell_type": "code",
      "metadata": {
        "id": "6GOgcpxiKgV5",
        "colab_type": "code",
        "outputId": "1a141802-e9ac-43da-e861-bc70eff5b407",
        "colab": {
          "base_uri": "https://localhost:8080/",
          "height": 33
        }
      },
      "source": [
        "a = Bag()\n",
        "a.add(5)\n",
        "a.addtwice(10)\n",
        "print(a.data)"
      ],
      "execution_count": 0,
      "outputs": [
        {
          "output_type": "stream",
          "text": [
            "[5, 10, 10]\n"
          ],
          "name": "stdout"
        }
      ]
    },
    {
      "cell_type": "code",
      "metadata": {
        "id": "-JEl5FfgKq5n",
        "colab_type": "code",
        "outputId": "fa285754-1bc3-4146-928c-83d05079fce0",
        "colab": {
          "base_uri": "https://localhost:8080/",
          "height": 50
        }
      },
      "source": [
        "class Person(object): \n",
        "       \n",
        "    # Constructor \n",
        "    def __init__(self, name): \n",
        "        self.name = name \n",
        "   \n",
        "    # To get name \n",
        "    def getName(self): \n",
        "        return self.name \n",
        "   \n",
        "    # To check if this person is employee \n",
        "    def isEmployee(self): \n",
        "        return False\n",
        "   \n",
        "   \n",
        "# Inherited or Sub class (Note Person in bracket) \n",
        "class Employee(Person): \n",
        "   \n",
        "    # Here we return true \n",
        "    def isEmployee(self): \n",
        "        return True\n",
        "   \n",
        "# Driver code \n",
        "emp = Person(\"Geek1\")  # An Object of Person \n",
        "print(emp.getName(), emp.isEmployee()) \n",
        "   \n",
        "emp = Employee(\"Geek2\") # An Object of Employee \n",
        "print(emp.getName(), emp.isEmployee()) "
      ],
      "execution_count": 0,
      "outputs": [
        {
          "output_type": "stream",
          "text": [
            "Geek1 False\n",
            "Geek2 True\n"
          ],
          "name": "stdout"
        }
      ]
    },
    {
      "cell_type": "code",
      "metadata": {
        "id": "RR0qVBzEO0Pk",
        "colab_type": "code",
        "outputId": "984dfbb3-15bc-426d-9e96-cf6fbf98819f",
        "colab": {
          "base_uri": "https://localhost:8080/",
          "height": 83
        }
      },
      "source": [
        "class Base1(object): \n",
        "    def __init__(self): \n",
        "        self.str1 = \"Geek1\"\n",
        "        print(\"Base1\")\n",
        "  \n",
        "class Base2(object): \n",
        "    def __init__(self): \n",
        "        self.str2 = \"Geek2\"        \n",
        "        print(\"Base2\")\n",
        "  \n",
        "class Derived(Base1, Base2): \n",
        "    def __init__(self): \n",
        "          \n",
        "        # Calling constructors of Base1 \n",
        "        # and Base2 classes \n",
        "        Base1.__init__(self) \n",
        "        Base2.__init__(self) \n",
        "        print(\"Derived\")\n",
        "          \n",
        "    def printStrs(self): \n",
        "        print(self.str1, self.str2) \n",
        "         \n",
        "  \n",
        "ob = Derived() \n",
        "ob.printStrs() "
      ],
      "execution_count": 0,
      "outputs": [
        {
          "output_type": "stream",
          "text": [
            "Base1\n",
            "Base2\n",
            "Derived\n",
            "Geek1 Geek2\n"
          ],
          "name": "stdout"
        }
      ]
    },
    {
      "cell_type": "code",
      "metadata": {
        "id": "Dks5b-Z4Pup1",
        "colab_type": "code",
        "outputId": "d618a323-1353-4428-c085-11a3f137e79c",
        "colab": {
          "base_uri": "https://localhost:8080/",
          "height": 33
        }
      },
      "source": [
        "class Base(object): \n",
        "      \n",
        "    # Constructor \n",
        "    def __init__(self, name): \n",
        "        self.name = name \n",
        "  \n",
        "    # To get name \n",
        "    def getName(self): \n",
        "        return self.name \n",
        "  \n",
        "  \n",
        "# Inherited or Sub class (Note Person in bracket) \n",
        "class Child(Base): \n",
        "      \n",
        "    # Constructor \n",
        "    def __init__(self, name, age): \n",
        "        Base.__init__(self, name) \n",
        "        self.age = age \n",
        "  \n",
        "    # To get name \n",
        "    def getAge(self): \n",
        "        return self.age \n",
        "  \n",
        "# Inherited or Sub class (Note Person in bracket) \n",
        "class GrandChild(Child): \n",
        "      \n",
        "    # Constructor \n",
        "    def __init__(self, name, age, address): \n",
        "        Child.__init__(self, name, age) \n",
        "        self.address = address \n",
        "  \n",
        "    # To get address \n",
        "    def getAddress(self): \n",
        "        return self.address         \n",
        "  \n",
        "# Driver code \n",
        "g = GrandChild(\"Geek1\", 23, \"Noida\")   \n",
        "print(g.getName(), g.getAge(), g.getAddress()) "
      ],
      "execution_count": 0,
      "outputs": [
        {
          "output_type": "stream",
          "text": [
            "Geek1 23 Noida\n"
          ],
          "name": "stdout"
        }
      ]
    },
    {
      "cell_type": "code",
      "metadata": {
        "id": "Ebd1xfflQmtd",
        "colab_type": "code",
        "colab": {}
      },
      "source": [
        "# first parent class \n",
        "class Person(object):                   \n",
        "      def __init__(self, name, idnumber): \n",
        "            self.name = name \n",
        "            self.idnumber = idnumber \n",
        "  \n",
        "# second parent class       \n",
        "class Employee(object):                 \n",
        "      def __init__(self, salary, post): \n",
        "            self.salary = salary \n",
        "            self.post = post \n",
        "  \n",
        "# inheritance from both the parent classes       \n",
        "class Leader(Person, Employee):         \n",
        "      def __init__(self, name, idnumber, salary, post, points): \n",
        "            self.points = points \n",
        "            Person.__init__(self, name, idnumber) \n",
        "            Employee.__init__(self, salary, post)    \n"
      ],
      "execution_count": 0,
      "outputs": []
    },
    {
      "cell_type": "code",
      "metadata": {
        "id": "0HcYM0o9RS5h",
        "colab_type": "code",
        "outputId": "c17f8a4d-d431-4753-9749-73eef47d184c",
        "colab": {
          "base_uri": "https://localhost:8080/",
          "height": 50
        }
      },
      "source": [
        "# Base Class \n",
        "class A(object):                 \n",
        "        def __init__(self): \n",
        "                constant1 = 1\n",
        "        def method1(self): \n",
        "                print('method1 of class A') \n",
        "  \n",
        "class B(A): \n",
        "        def __init__(self): \n",
        "                constant2 = 2\n",
        "                self.calling1() \n",
        "                A.__init__(self) \n",
        "        def method1(self): \n",
        "                print('method1 of class B') \n",
        "        def calling1(self): \n",
        "                self.method1() \n",
        "                A.method1(self) \n",
        "b = B() "
      ],
      "execution_count": 0,
      "outputs": [
        {
          "output_type": "stream",
          "text": [
            "method1 of class B\n",
            "method1 of class A\n"
          ],
          "name": "stdout"
        }
      ]
    },
    {
      "cell_type": "code",
      "metadata": {
        "id": "tDCDhwb0RWQ0",
        "colab_type": "code",
        "outputId": "93038174-f0ba-4323-d5f2-b6a559ae614e",
        "colab": {
          "base_uri": "https://localhost:8080/",
          "height": 66
        }
      },
      "source": [
        "class A(object): \n",
        "        def function1(self): \n",
        "                print('function of class A')\n",
        "class B(A): \n",
        "        def function1(self): \n",
        "                print('function of class B')\n",
        "                super(B, self).function1() \n",
        "class C(B): \n",
        "        def function1(self): \n",
        "                print('function of class C')\n",
        "                super(C, self).function1() \n",
        "j = C() \n",
        "j.function1() "
      ],
      "execution_count": 0,
      "outputs": [
        {
          "output_type": "stream",
          "text": [
            "function of class C\n",
            "function of class B\n",
            "function of class A\n"
          ],
          "name": "stdout"
        }
      ]
    },
    {
      "cell_type": "code",
      "metadata": {
        "id": "RvqXwLlDRk5y",
        "colab_type": "code",
        "colab": {}
      },
      "source": [
        "import torch.nn as nn\n",
        "import torch.nn.functional as F\n",
        "\n",
        "class Model(nn.Module):\n",
        "    def __init__(self):\n",
        "        super(Model, self).__init__()\n",
        "        self.conv1 = nn.Conv2d(1, 20, 5)\n",
        "        self.conv2 = nn.Conv2d(20, 20, 5)\n",
        "\n",
        "    def forward(self, x):\n",
        "        x = F.relu(self.conv1(x))\n",
        "        return F.relu(self.conv2(x))"
      ],
      "execution_count": 0,
      "outputs": []
    },
    {
      "cell_type": "code",
      "metadata": {
        "id": "TSNtTXXwU1tV",
        "colab_type": "code",
        "outputId": "87de197c-41bb-4511-eabd-d429d4046413",
        "colab": {
          "base_uri": "https://localhost:8080/",
          "height": 83
        }
      },
      "source": [
        "model = Model()\n",
        "print(model)"
      ],
      "execution_count": 0,
      "outputs": [
        {
          "output_type": "stream",
          "text": [
            "Model(\n",
            "  (conv1): Conv2d(1, 20, kernel_size=(5, 5), stride=(1, 1))\n",
            "  (conv2): Conv2d(20, 20, kernel_size=(5, 5), stride=(1, 1))\n",
            ")\n"
          ],
          "name": "stdout"
        }
      ]
    },
    {
      "cell_type": "code",
      "metadata": {
        "id": "QlYmOgn1no_b",
        "colab_type": "code",
        "outputId": "e477280e-659b-4313-8b8b-d7466d40549e",
        "colab": {
          "base_uri": "https://localhost:8080/",
          "height": 150
        }
      },
      "source": [
        "lst = [0,1,2,3,4,5,6]\n",
        "it = iter(lst)\n",
        "print(it.__next__())\n",
        "print(it.__next__())\n",
        "print(it.__next__())\n",
        "print(it.__next__())\n",
        "\n",
        "it = iter(lst)\n",
        "print(it.__next__())\n",
        "print(it.__next__())\n",
        "print(it.__next__())\n",
        "print(it.__next__())"
      ],
      "execution_count": 0,
      "outputs": [
        {
          "output_type": "stream",
          "text": [
            "0\n",
            "1\n",
            "2\n",
            "3\n",
            "0\n",
            "1\n",
            "2\n",
            "3\n"
          ],
          "name": "stdout"
        }
      ]
    },
    {
      "cell_type": "markdown",
      "metadata": {
        "id": "wb0hwcqtXjZR",
        "colab_type": "text"
      },
      "source": [
        "### Magic function\n",
        "\n",
        "**__init__()** , **__next__()**, **__repr__()** are called magic function. They have special builtin purpose."
      ]
    },
    {
      "cell_type": "code",
      "metadata": {
        "id": "dnjHx-vZps6h",
        "colab_type": "code",
        "outputId": "d72e289a-c346-49a7-e2f3-5ab11851242c",
        "colab": {
          "base_uri": "https://localhost:8080/",
          "height": 175
        }
      },
      "source": [
        "class myRange:\n",
        "    def __init__(self, start, end, increment=1):\n",
        "        self.start = start\n",
        "        self.end = end\n",
        "        self.curr_num = start\n",
        "        self.increment = increment\n",
        "\n",
        "    def __iter__(self):\n",
        "        self.curr_num = self.start\n",
        "        return self\n",
        "\n",
        "    def __next__(self):\n",
        "        if(self.curr_num >= self.end):\n",
        "            raise StopIteration\n",
        "        self.curr_num += self.increment\n",
        "        return self.curr_num-self.increment\n",
        "    \n",
        "    def __repr__(self):\n",
        "      return \"hello\"\n",
        "\n",
        "range_object = myRange(0, 4)\n",
        "print(range_object)\n",
        "object_iter = iter(range_object)\n",
        "print(next(object_iter))\n",
        "print(next(object_iter))\n",
        "print(next(object_iter))\n",
        "print(next(object_iter))\n",
        "\n",
        "object_iter = iter(range_object)\n",
        "print(next(object_iter))\n",
        "print(next(object_iter))\n",
        "print(next(object_iter))\n",
        "print(next(object_iter))\n"
      ],
      "execution_count": 0,
      "outputs": [
        {
          "output_type": "stream",
          "text": [
            "hello\n",
            "0\n",
            "1\n",
            "2\n",
            "3\n",
            "0\n",
            "1\n",
            "2\n",
            "3\n"
          ],
          "name": "stdout"
        }
      ]
    },
    {
      "cell_type": "code",
      "metadata": {
        "id": "DFS6sWIeYEZj",
        "colab_type": "code",
        "outputId": "679498e9-a464-4fc9-87d5-8bb18ec8c34e",
        "colab": {
          "base_uri": "https://localhost:8080/",
          "height": 66
        }
      },
      "source": [
        "class Node:\n",
        "    \"\"\" A struct to denote the node of a binary tree.\n",
        "    It contains a value and pointers to left and right children.\n",
        "    \"\"\"\n",
        "    def __init__(self, value, left=None, right=None):\n",
        "        self.value = value\n",
        "        self.left = left\n",
        "        self.right = right\n",
        "\n",
        "    def __eq__(self, other):\n",
        "        return self.value == other.value\n",
        "\n",
        "    def __lt__(self, other):\n",
        "        return self.value < other.value\n",
        "\n",
        "    def __ge__(self, other):\n",
        "        return self.value >= other.value\n",
        "\n",
        "\n",
        "left = Node(4)\n",
        "root = Node(5, left)\n",
        "print(left == root) # False\n",
        "print(left < root) # True\n",
        "print(left >= root)0 # False"
      ],
      "execution_count": 0,
      "outputs": [
        {
          "output_type": "stream",
          "text": [
            "False\n",
            "True\n",
            "False\n"
          ],
          "name": "stdout"
        }
      ]
    },
    {
      "cell_type": "code",
      "metadata": {
        "id": "DGYRZ-Wd3IN8",
        "colab_type": "code",
        "outputId": "02bdeee0-f9ce-4e87-896d-1638f9ef2a1d",
        "colab": {
          "base_uri": "https://localhost:8080/",
          "height": 133
        }
      },
      "source": [
        "letters = ['a', 'b', 'c', 'd', 'e', 'f', 'g']\n",
        "for letter in letters:\n",
        "  print(letter)"
      ],
      "execution_count": 0,
      "outputs": [
        {
          "output_type": "stream",
          "text": [
            "a\n",
            "b\n",
            "c\n",
            "d\n",
            "e\n",
            "f\n",
            "g\n"
          ],
          "name": "stdout"
        }
      ]
    },
    {
      "cell_type": "markdown",
      "metadata": {
        "id": "PnGMs3cPixxS",
        "colab_type": "text"
      },
      "source": [
        "# 10. Asserts and exceptions\n",
        "\n",
        "Great for integrating fact check when you are running a big simulation.\n",
        "\n",
        "- get back to `ask_ok()`"
      ]
    },
    {
      "cell_type": "code",
      "metadata": {
        "id": "k2QhlD_Zzl1s",
        "colab_type": "code",
        "colab": {}
      },
      "source": [
        "assert fibonacci(3) == [0, 1, 1, 2]\n",
        "assert isLeapYear(2000) == True\n",
        "assert grader(50) == 'Fail'"
      ],
      "execution_count": 0,
      "outputs": []
    },
    {
      "cell_type": "code",
      "metadata": {
        "id": "A2uPzpG20kjL",
        "colab_type": "code",
        "colab": {}
      },
      "source": [
        "assert fibonacci(5) == [0, 0, 1, 2, 3]  # will raise an error"
      ],
      "execution_count": 0,
      "outputs": []
    },
    {
      "cell_type": "code",
      "metadata": {
        "id": "z0GruH6r1F6L",
        "colab_type": "code",
        "colab": {}
      },
      "source": [
        "it = data_iterator(data, is_stop = True, is_shuffle = True, batch_size=3)\n",
        "for i in it:\n",
        "  assert len(i)==3"
      ],
      "execution_count": 0,
      "outputs": []
    },
    {
      "cell_type": "code",
      "metadata": {
        "id": "lFAR3ZM71fZN",
        "colab_type": "code",
        "colab": {}
      },
      "source": [
        "it = data_iterator(data, is_stop = True, is_shuffle = True, batch_size=3)\n",
        "for i in it:\n",
        "  try:\n",
        "    assert len(i)==3\n",
        "  except:\n",
        "    print(\"Warning, there is a problem with length of the generator's output.\")\n",
        "    raise"
      ],
      "execution_count": 0,
      "outputs": []
    },
    {
      "cell_type": "markdown",
      "metadata": {
        "id": "mJlQRQmvgJck",
        "colab_type": "text"
      },
      "source": [
        "# 11. Input Output (I/O)\n",
        "\n",
        "- Take input from keyboard\n",
        "- Read and write from a text file"
      ]
    },
    {
      "cell_type": "code",
      "metadata": {
        "id": "1eNvo5_L50GC",
        "colab_type": "code",
        "colab": {}
      },
      "source": [
        "a = input(\"Write something : \")\n",
        "print(a, type(a))\n",
        "b = int(input(\"Write an integer : \"))\n",
        "print(b, type(b))\n",
        "c = float(input(\"Write something : \"))\n",
        "print(c, type(c))"
      ],
      "execution_count": 0,
      "outputs": []
    },
    {
      "cell_type": "markdown",
      "metadata": {
        "id": "s5MrgCWn630-",
        "colab_type": "text"
      },
      "source": [
        "Let's write some text in a file"
      ]
    },
    {
      "cell_type": "code",
      "metadata": {
        "id": "LMNdbW_n6lQq",
        "colab_type": "code",
        "colab": {}
      },
      "source": [
        "filePtr = open(\"text.txt\", \"w\", encoding=\"utf-8\")\n",
        "sentences = [\"Do you know?\", \"why it so popular.\", \"The quick brown fox runs over the lazy dog\"]\n",
        "for sentence in sentences:\n",
        "  filePtr.write(sentence)\n",
        "filePtr.close"
      ],
      "execution_count": 0,
      "outputs": []
    },
    {
      "cell_type": "code",
      "metadata": {
        "id": "89wXMcPB7xf1",
        "colab_type": "code",
        "colab": {}
      },
      "source": [
        "sentences = [\"Do you know?\", \"why it so popular.\", \"The quick brown fox runs over the lazy dog\"]\n",
        "with open(\"text.txt\", \"w\", encoding=\"utf-8\") as filePtr:\n",
        "  for sentence in sentences:\n",
        "    filePtr.write(sentence+\"\\n\")"
      ],
      "execution_count": 0,
      "outputs": []
    },
    {
      "cell_type": "code",
      "metadata": {
        "id": "hPyPwIcL68Bv",
        "colab_type": "code",
        "colab": {}
      },
      "source": [
        "with open(\"text.txt\", \"r\", encoding=\"utf-8\") as filePtr:\n",
        "  for line in filePtr:\n",
        "    print(line)"
      ],
      "execution_count": 0,
      "outputs": []
    },
    {
      "cell_type": "markdown",
      "metadata": {
        "id": "xByFBgyE8C1F",
        "colab_type": "text"
      },
      "source": [
        " For different language text you may have to change the encoding `utf-8` to `latin-1`."
      ]
    },
    {
      "cell_type": "markdown",
      "metadata": {
        "id": "22wXWh0W7rIE",
        "colab_type": "text"
      },
      "source": [
        "## Python object serialization\n",
        "https://docs.python.org/3/library/pickle.html"
      ]
    },
    {
      "cell_type": "code",
      "metadata": {
        "id": "NjEL26hq6IN9",
        "colab_type": "code",
        "outputId": "db01c0d2-ffd3-4774-8a94-ec7a88a6687c",
        "colab": {
          "base_uri": "https://localhost:8080/",
          "height": 70
        }
      },
      "source": [
        "import pickle \n",
        "data = [100, 122, 15, 19, 100, 500, 900, 100, 100, 122, 15, 66, 100, 500, 88, 100, 100, 122, 20, 19, 100, 500, 77, 100, 10]\n",
        "pickle.dump( data, open( \"save.pcl\", \"wb\" ) )\n",
        "data1 = pickle.load( open( \"save.pcl\", \"rb\" ) )\n",
        "print(data) \n",
        "  \n",
        "class B: \n",
        "        def __init__(self): \n",
        "                self.x = 0\n",
        "                self.y = 0 \n",
        "        def add(self, x, y):\n",
        "          self.x = self.x + x\n",
        "          self.y = self.y + y \n",
        "\n",
        "obj = B()\n",
        "obj.add(5, 5)\n",
        "print(obj.x, obj.y)\n",
        "pickle.dump( obj, open( \"save1.pcl\", \"wb\" ) )\n",
        "obj1 = pickle.load( open( \"save1.pcl\", \"rb\" ) )\n",
        "print(obj1.x, obj1.y)"
      ],
      "execution_count": 0,
      "outputs": [
        {
          "output_type": "stream",
          "text": [
            "[100, 122, 15, 19, 100, 500, 900, 100, 100, 122, 15, 66, 100, 500, 88, 100, 100, 122, 20, 19, 100, 500, 77, 100, 10]\n",
            "5 5\n",
            "5 5\n"
          ],
          "name": "stdout"
        }
      ]
    },
    {
      "cell_type": "markdown",
      "metadata": {
        "id": "8FgYrQ1ajKLE",
        "colab_type": "text"
      },
      "source": [
        "# 12. The Pythonic Way\n",
        "\n",
        "Some cool features in python."
      ]
    },
    {
      "cell_type": "code",
      "metadata": {
        "id": "gNVkCVTi-hde",
        "colab_type": "code",
        "colab": {}
      },
      "source": [
        "for i in range(10):\n",
        "  print(i)"
      ],
      "execution_count": 0,
      "outputs": []
    },
    {
      "cell_type": "code",
      "metadata": {
        "id": "15PG_22Sk8ou",
        "colab_type": "code",
        "colab": {}
      },
      "source": [
        "score = 50\n",
        "isFail = True if score > 40 else False "
      ],
      "execution_count": 0,
      "outputs": []
    },
    {
      "cell_type": "code",
      "metadata": {
        "id": "uLjWC6-U67Vb",
        "colab_type": "code",
        "colab": {}
      },
      "source": [
        ""
      ],
      "execution_count": 0,
      "outputs": []
    },
    {
      "cell_type": "code",
      "metadata": {
        "id": "wdwHYIIzlOFo",
        "colab_type": "code",
        "outputId": "d0a56e1f-1c41-4521-f89f-4b591a92fcbe",
        "colab": {
          "base_uri": "https://localhost:8080/",
          "height": 35
        }
      },
      "source": [
        "lst = [ i*i for i in range(20) ]\n",
        "print(lst)"
      ],
      "execution_count": 0,
      "outputs": [
        {
          "output_type": "stream",
          "text": [
            "[0, 1, 4, 9, 16, 25, 36, 49, 64, 81, 100, 121, 144, 169, 196, 225, 256, 289, 324, 361]\n"
          ],
          "name": "stdout"
        }
      ]
    },
    {
      "cell_type": "code",
      "metadata": {
        "id": "I7GTsfzEmXw2",
        "colab_type": "code",
        "colab": {}
      },
      "source": [
        "arr = [1, 2, 3, 4, 5, 6]\n",
        "arr = [x * 2 if x % 2 == 0 else x for x in arr]\n",
        "print(arr)"
      ],
      "execution_count": 0,
      "outputs": []
    },
    {
      "cell_type": "code",
      "metadata": {
        "id": "tuJ-X16flWIu",
        "colab_type": "code",
        "colab": {}
      },
      "source": [
        "LANGS = [ 'en', 'es', 'de', 'fr', 'ar', 'bg' ]\n",
        "data = {lang: {splt: {} for splt in ['train', 'valid', 'test']} for lang in LANGS}\n",
        "for k,v in data.items():\n",
        "  print(k, v)"
      ],
      "execution_count": 0,
      "outputs": []
    },
    {
      "cell_type": "code",
      "metadata": {
        "id": "KMwa2oiWkpKF",
        "colab_type": "code",
        "outputId": "7575d012-79fc-4078-a5cd-01aca788c99f",
        "colab": {
          "base_uri": "https://localhost:8080/",
          "height": 385
        }
      },
      "source": [
        "import this"
      ],
      "execution_count": 0,
      "outputs": [
        {
          "output_type": "stream",
          "text": [
            "The Zen of Python, by Tim Peters\n",
            "\n",
            "Beautiful is better than ugly.\n",
            "Explicit is better than implicit.\n",
            "Simple is better than complex.\n",
            "Complex is better than complicated.\n",
            "Flat is better than nested.\n",
            "Sparse is better than dense.\n",
            "Readability counts.\n",
            "Special cases aren't special enough to break the rules.\n",
            "Although practicality beats purity.\n",
            "Errors should never pass silently.\n",
            "Unless explicitly silenced.\n",
            "In the face of ambiguity, refuse the temptation to guess.\n",
            "There should be one-- and preferably only one --obvious way to do it.\n",
            "Although that way may not be obvious at first unless you're Dutch.\n",
            "Now is better than never.\n",
            "Although never is often better than *right* now.\n",
            "If the implementation is hard to explain, it's a bad idea.\n",
            "If the implementation is easy to explain, it may be a good idea.\n",
            "Namespaces are one honking great idea -- let's do more of those!\n"
          ],
          "name": "stdout"
        }
      ]
    },
    {
      "cell_type": "markdown",
      "metadata": {
        "id": "hp1CTf5CmzZd",
        "colab_type": "text"
      },
      "source": [
        "Once you are confortable with python try to write neat and beautiful code. \n",
        "A useful guide, https://docs.python-guide.org/writing/style/"
      ]
    },
    {
      "cell_type": "markdown",
      "metadata": {
        "id": "vjSEjVq2jQRG",
        "colab_type": "text"
      },
      "source": [
        "# 13. Brief tour to Some important Library\n",
        "Practice\n",
        "0. https://docs.python.org/3.6/tutorial/stdlib.html\n",
        "1. https://docs.python.org/3.6/tutorial/datastructures.html\n",
        "2. https://stackabuse.com/introduction-to-pythons-collections-module/\n",
        "3. https://www.machinelearningplus.com/python/python-logging-guide/\n",
        "4. https://docs.python.org/2/howto/argparse.html"
      ]
    },
    {
      "cell_type": "markdown",
      "metadata": {
        "id": "vUXn7fBFjUfb",
        "colab_type": "text"
      },
      "source": [
        "# 14. Package Manager\n",
        "\n",
        "Python has a wide range of library. Sometimes different project use different types of library that may conflict with each other. Meaning we can't use one library while other library is installed. This brings a huge problem.\n",
        "\n",
        "Package manager provides the solution to this problem. Using a package manager we can create different `environment` for different projects and activate those `environment` while we work on each projects. The package remains inside of that environment.\n",
        "\n",
        "As a package manager we will use [Anaconda](https://www.anaconda.com/). You can also use `virtualenv`.\n",
        "\n",
        "Please follow the demo to see how to maintain packages in python by anaconda.\n",
        "\n",
        "To manage anaconda environment follow,\n",
        "https://docs.conda.io/projects/conda/en/latest/user-guide/tasks/manage-environments.html"
      ]
    },
    {
      "cell_type": "markdown",
      "metadata": {
        "id": "Xu0WIRty3jYp",
        "colab_type": "text"
      },
      "source": [
        "# 15. The complete Reference\n",
        "\n",
        "[Python Language reference](https://docs.python.org/3.6/reference/index.html#reference-index)"
      ]
    },
    {
      "cell_type": "markdown",
      "metadata": {
        "id": "6oWRIWNPWkZa",
        "colab_type": "text"
      },
      "source": [
        "For any question please mail `bari0001@e.ntu.edu.sg`"
      ]
    },
    {
      "cell_type": "markdown",
      "metadata": {
        "id": "XwPkWz_BQLCy",
        "colab_type": "text"
      },
      "source": [
        "# Credits\n",
        "0. https://docs.python.org/3.6/tutorial/\n",
        "1. www.geeksforgeeks.org"
      ]
    },
    {
      "cell_type": "code",
      "metadata": {
        "id": "uq6Mf5UKT-vx",
        "colab_type": "code",
        "colab": {}
      },
      "source": [
        ""
      ],
      "execution_count": 0,
      "outputs": []
    }
  ]
}